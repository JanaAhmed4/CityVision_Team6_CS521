{
 "cells": [
  {
   "cell_type": "markdown",
   "metadata": {},
   "source": [
    "# Calculating the density of POIs and categorizing each POI "
   ]
  },
  {
   "cell_type": "code",
   "execution_count": 25,
   "metadata": {},
   "outputs": [
    {
     "name": "stdout",
     "output_type": "stream",
     "text": [
      "Updated dataset saved successfully.\n"
     ]
    }
   ],
   "source": [
    "import pandas as pd\n",
    "from collections import defaultdict\n",
    "\n",
    "def categorize_poi(types):\n",
    "    \"\"\"Categorizes a POI based on its types and ensures unique POI counting.\"\"\"\n",
    "    categories = {\n",
    "        \"restaurant\": [\"Restaurants\", \"Food & Dining\"],\n",
    "        \"cafe\": [\"Coffee Shops\", \"Food & Dining\"],\n",
    "        \"hospital\": [\"Health\"], \"clinic\": [\"Health\"], \"pharmacy\": [\"Health\"], \"physiotherapist\": [\"Health\"],\n",
    "        \"doctor\": [\"Health\"], \"dentist\": [\"Health\"], \"veterinary_care\": [\"Health\"],\n",
    "        \"school\": [\"Education\"], \"university\": [\"Education\"], \"college\": [\"Education\"],\n",
    "        \"library\": [\"Education\"], \"primary_school\": [\"Education\"], \"secondary_school\": [\"Education\"],\n",
    "        \"shopping_mall\": [\"Retail & Shopping\"], \"department_store\": [\"Retail & Shopping\"],\n",
    "        \"clothing_store\": [\"Retail & Shopping\"], \"shoe_store\": [\"Retail & Shopping\"],\n",
    "        \"electronics_store\": [\"Retail & Shopping\"], \"home_goods_store\": [\"Retail & Shopping\"],\n",
    "        \"furniture_store\": [\"Retail & Shopping\"], \"jewelry_store\": [\"Retail & Shopping\"],\n",
    "        \"book_store\": [\"Retail & Shopping\"], \"convenience_store\": [\"Retail & Shopping\"],\n",
    "        \"supermarket\": [\"Retail & Shopping\"], \"hardware_store\": [\"Retail & Shopping\"],\n",
    "        \"florist\": [\"Retail & Shopping\"], \"pet_store\": [\"Retail & Shopping\"], \"store\": [\"Retail & Shopping\"],\n",
    "        \"amusement_park\": [\"Entertainment & Recreation\"], \"aquarium\": [\"Entertainment & Recreation\"],\n",
    "        \"art_gallery\": [\"Entertainment & Recreation\"], \"bowling_alley\": [\"Entertainment & Recreation\"],\n",
    "        \"casino\": [\"Entertainment & Recreation\"], \"movie_theater\": [\"Entertainment & Recreation\"],\n",
    "        \"museum\": [\"Entertainment & Recreation\"], \"night_club\": [\"Entertainment & Recreation\"],\n",
    "        \"stadium\": [\"Entertainment & Recreation\"], \"tourist_attraction\": [\"Entertainment & Recreation\"],\n",
    "        \"zoo\": [\"Entertainment & Recreation\"], \"park\": [\"Entertainment & Recreation\"],\n",
    "        \"bar\": [\"Food & Dining\"], \"bakery\": [\"Food & Dining\"], \"meal_delivery\": [\"Food & Dining\"], \"meal_takeaway\": [\"Food & Dining\"],\n",
    "        \"hotel\": [\"Hotels & Hospitality\"], \"motel\": [\"Hotels & Hospitality\"],\n",
    "        \"guest_house\": [\"Hotels & Hospitality\"], \"lodging\": [\"Hotels & Hospitality\"],\n",
    "        \"bank\": [\"Finance & Services\"], \"atm\": [\"Finance & Services\"],\n",
    "        \"insurance_agency\": [\"Finance & Services\"], \"accounting\": [\"Finance & Services\"],\n",
    "        \"real_estate_agency\": [\"Finance & Services\"], \"lawyer\": [\"Finance & Services\"],\n",
    "        \"airport\": [\"Transportation & Travel\"], \"bus_station\": [\"Transportation & Travel\"],\n",
    "        \"train_station\": [\"Transportation & Travel\"], \"subway_station\": [\"Transportation & Travel\"],\n",
    "        \"transit_station\": [\"Transportation & Travel\"], \"taxi_stand\": [\"Transportation & Travel\"],\n",
    "        \"parking\": [\"Transportation & Travel\"], \"car_rental\": [\"Transportation & Travel\"],\n",
    "        \"car_dealer\": [\"Transportation & Travel\"], \"car_repair\": [\"Transportation & Travel\"],\n",
    "        \"car_wash\": [\"Transportation & Travel\"], \"moving_company\": [\"Transportation & Travel\"],\n",
    "        \"rv_park\": [\"Transportation & Travel\"], \"travel_agency\": [\"Transportation & Travel\"],\n",
    "        \"police\": [\"Public & Government Services\"], \"fire_station\": [\"Public & Government Services\"],\n",
    "        \"sublocality\": [\"Public & Government Services\"], \"locality\": [\"Public & Government Services\"], \n",
    "        \"post_office\": [\"Public & Government Services\"],\n",
    "        \"courthouse\": [\"Public & Government Services\"], \"city_hall\": [\"Public & Government Services\"],\n",
    "        \"embassy\": [\"Public & Government Services\"], \"local_government_office\": [\"Public & Government Services\"],\n",
    "        \"church\": [\"Religious Institutions\"], \"mosque\": [\"Religious Institutions\"], \"cemetery\": [\"Religious Institutions\"],\n",
    "        \"beauty_salon\": [\"Beauty & Wellness\"], \"spa\": [\"Beauty & Wellness\"], \"hair_care\": [\"Beauty & Wellness\"],\n",
    "        \"gym\": [\"Beauty & Wellness\"], \"laundry\": [\"Beauty & Wellness\"],\n",
    "        \"electrician\": [\"Home & Construction Services\"], \"plumber\": [\"Home & Construction Services\"],\n",
    "        \"painter\": [\"Home & Construction Services\"], \"roofing_contractor\": [\"Home & Construction Services\"],\n",
    "        \"locksmith\": [\"Home & Construction Services\"]\n",
    "    }\n",
    "    \n",
    "    unique_categories = set()\n",
    "    for t in types.split(\",\"):\n",
    "        t = t.strip()\n",
    "        if t in categories:\n",
    "            unique_categories.update(categories[t])  # Add multiple categories if applicable\n",
    "    \n",
    "    return unique_categories\n",
    "\n",
    "def main():\n",
    "    restaurants_df = pd.read_csv(\"../../Data Preprocessing/Foursquare/final_restaurants_dataset_cleaned.csv\")\n",
    "    poi_df = pd.read_csv(\"poi_per_restaurant.csv\")\n",
    "    \n",
    "    poi_df = poi_df.drop_duplicates(subset=[\"Business ID\", \"Name\"])\n",
    "    \n",
    "    category_set = {\n",
    "        \"Restaurants\", \"Coffee Shops\", \"Health\", \"Education\", \"Retail & Shopping\", \"Entertainment & Recreation\", \n",
    "        \"Food & Dining\", \"Hotels & Hospitality\", \"Finance & Services\", \n",
    "        \"Transportation & Travel\", \"Public & Government Services\", \"Religious Institutions\",\n",
    "        \"Beauty & Wellness\", \"Home & Construction Services\"\n",
    "    }\n",
    "    \n",
    "    for category in category_set:\n",
    "        restaurants_df[category] = 0\n",
    "    restaurants_df[\"POI Density\"] = 0  \n",
    "    \n",
    "    for index, row in restaurants_df.iterrows():\n",
    "        restaurant_id = row[\"Business ID\"]\n",
    "        associated_pois = poi_df[poi_df[\"Business ID\"] == restaurant_id]\n",
    "        \n",
    "        category_counts = defaultdict(int)\n",
    "        total_poi_count = 0\n",
    "        \n",
    "        for _, poi in associated_pois.iterrows():\n",
    "            if pd.notna(poi[\"Types\"]):\n",
    "                unique_categories = categorize_poi(poi[\"Types\"])\n",
    "                total_poi_count += 1\n",
    "                for category in unique_categories:\n",
    "                    category_counts[category] += 1\n",
    "        \n",
    "        for category in category_set:\n",
    "            restaurants_df.at[index, category] = category_counts[category]\n",
    "        restaurants_df.at[index, \"POI Density\"] = total_poi_count\n",
    "    \n",
    "    restaurants_df.to_csv(\"../../Data Preprocessing/Foursquare/final_restaurants_dataset_cleaned.csv\", index=False)\n",
    "    print(\"Updated dataset saved successfully.\")\n",
    "\n",
    "if __name__ == \"__main__\":\n",
    "    main()\n"
   ]
  },
  {
   "cell_type": "code",
   "execution_count": 43,
   "metadata": {},
   "outputs": [
    {
     "name": "stdout",
     "output_type": "stream",
     "text": [
      "Updated dataset saved successfully.\n"
     ]
    }
   ],
   "source": [
    "import pandas as pd\n",
    "from collections import defaultdict\n",
    "\n",
    "def categorize_poi(types):\n",
    "    \"\"\"Categorizes a POI based on its types and ensures unique POI counting.\"\"\"\n",
    "    categories = {\n",
    "        \"restaurant\": [\"Restaurants\", \"Food & Dining\"],\n",
    "        \"cafe\": [\"Coffee Shops\", \"Food & Dining\"],\n",
    "        \"hospital\": [\"Health\"], \"clinic\": [\"Health\"], \"pharmacy\": [\"Health\"], \"physiotherapist\": [\"Health\"],\n",
    "        \"doctor\": [\"Health\"], \"dentist\": [\"Health\"], \"veterinary_care\": [\"Health\"],\n",
    "        \"school\": [\"Education\"], \"university\": [\"Education\"], \"college\": [\"Education\"],\n",
    "        \"library\": [\"Education\"], \"primary_school\": [\"Education\"], \"secondary_school\": [\"Education\"],\n",
    "        \"shopping_mall\": [\"Retail & Shopping\"], \"department_store\": [\"Retail & Shopping\"],\n",
    "        \"clothing_store\": [\"Retail & Shopping\"], \"shoe_store\": [\"Retail & Shopping\"],\n",
    "        \"electronics_store\": [\"Retail & Shopping\"], \"home_goods_store\": [\"Retail & Shopping\"],\n",
    "        \"furniture_store\": [\"Retail & Shopping\"], \"jewelry_store\": [\"Retail & Shopping\"],\n",
    "        \"book_store\": [\"Retail & Shopping\"], \"convenience_store\": [\"Retail & Shopping\"],\n",
    "        \"supermarket\": [\"Retail & Shopping\"], \"hardware_store\": [\"Retail & Shopping\"],\n",
    "        \"florist\": [\"Retail & Shopping\"], \"pet_store\": [\"Retail & Shopping\"], \"store\": [\"Retail & Shopping\"],\n",
    "        \"amusement_park\": [\"Entertainment & Recreation\"], \"aquarium\": [\"Entertainment & Recreation\"],\n",
    "        \"art_gallery\": [\"Entertainment & Recreation\"], \"bowling_alley\": [\"Entertainment & Recreation\"],\n",
    "        \"casino\": [\"Entertainment & Recreation\"], \"movie_theater\": [\"Entertainment & Recreation\"],\n",
    "        \"museum\": [\"Entertainment & Recreation\"], \"night_club\": [\"Entertainment & Recreation\"],\n",
    "        \"stadium\": [\"Entertainment & Recreation\"], \"tourist_attraction\": [\"Entertainment & Recreation\"],\n",
    "        \"zoo\": [\"Entertainment & Recreation\"], \"park\": [\"Entertainment & Recreation\"],\n",
    "        \"bar\": [\"Food & Dining\"], \"bakery\": [\"Food & Dining\"], \"meal_delivery\": [\"Food & Dining\"], \"meal_takeaway\": [\"Food & Dining\"],\n",
    "        \"hotel\": [\"Hotels & Hospitality\"], \"motel\": [\"Hotels & Hospitality\"],\n",
    "        \"guest_house\": [\"Hotels & Hospitality\"], \"lodging\": [\"Hotels & Hospitality\"],\n",
    "        \"bank\": [\"Finance & Services\"], \"atm\": [\"Finance & Services\"],\n",
    "        \"insurance_agency\": [\"Finance & Services\"], \"accounting\": [\"Finance & Services\"],\n",
    "        \"real_estate_agency\": [\"Finance & Services\"], \"lawyer\": [\"Finance & Services\"],\n",
    "        \"airport\": [\"Transportation & Travel\"], \"bus_station\": [\"Transportation & Travel\"],\n",
    "        \"train_station\": [\"Transportation & Travel\"], \"subway_station\": [\"Transportation & Travel\"],\n",
    "        \"transit_station\": [\"Transportation & Travel\"], \"taxi_stand\": [\"Transportation & Travel\"],\n",
    "        \"parking\": [\"Transportation & Travel\"], \"car_rental\": [\"Transportation & Travel\"],\n",
    "        \"car_dealer\": [\"Transportation & Travel\"], \"car_repair\": [\"Transportation & Travel\"],\n",
    "        \"car_wash\": [\"Transportation & Travel\"], \"moving_company\": [\"Transportation & Travel\"],\n",
    "        \"rv_park\": [\"Transportation & Travel\"], \"travel_agency\": [\"Transportation & Travel\"],\n",
    "        \"police\": [\"Public & Government Services\"], \"fire_station\": [\"Public & Government Services\"],\n",
    "        \"sublocality\": [\"Public & Government Services\"], \"locality\": [\"Public & Government Services\"], \n",
    "        \"post_office\": [\"Public & Government Services\"],\n",
    "        \"courthouse\": [\"Public & Government Services\"], \"city_hall\": [\"Public & Government Services\"],\n",
    "        \"embassy\": [\"Public & Government Services\"], \"local_government_office\": [\"Public & Government Services\"],\n",
    "        \"church\": [\"Religious Institutions\"], \"mosque\": [\"Religious Institutions\"], \"cemetery\": [\"Religious Institutions\"],\n",
    "        \"beauty_salon\": [\"Beauty & Wellness\"], \"spa\": [\"Beauty & Wellness\"], \"hair_care\": [\"Beauty & Wellness\"],\n",
    "        \"gym\": [\"Beauty & Wellness\"], \"laundry\": [\"Beauty & Wellness\"],\n",
    "        \"electrician\": [\"Home & Construction Services\"], \"plumber\": [\"Home & Construction Services\"],\n",
    "        \"painter\": [\"Home & Construction Services\"], \"roofing_contractor\": [\"Home & Construction Services\"],\n",
    "        \"locksmith\": [\"Home & Construction Services\"]\n",
    "    }\n",
    "    \n",
    "    unique_categories = set()\n",
    "    for t in types.split(\",\"):\n",
    "        t = t.strip()\n",
    "        if t in categories:\n",
    "            unique_categories.update(categories[t])  # Add multiple categories if applicable\n",
    "    \n",
    "    return unique_categories\n",
    "\n",
    "def main():\n",
    "    coffeeshops_df = pd.read_csv(\"../../Data Preprocessing/Foursquare/final_coffeeshops_dataset_cleaned.csv\")\n",
    "    poi_df = pd.read_csv(\"poi_per_coffeeshop.csv\")\n",
    "    \n",
    "    poi_df = poi_df.drop_duplicates(subset=[\"Business ID\", \"Name\"])\n",
    "    \n",
    "    category_set = {\n",
    "        \"Restaurants\", \"Coffee Shops\", \"Health\", \"Education\", \"Retail & Shopping\", \"Entertainment & Recreation\", \n",
    "        \"Food & Dining\", \"Hotels & Hospitality\", \"Finance & Services\", \n",
    "        \"Transportation & Travel\", \"Public & Government Services\", \"Religious Institutions\",\n",
    "        \"Beauty & Wellness\", \"Home & Construction Services\"\n",
    "    }\n",
    "    \n",
    "    for category in category_set:\n",
    "        coffeeshops_df[category] = 0\n",
    "    coffeeshops_df[\"POI Density\"] = 0  \n",
    "    \n",
    "    for index, row in coffeeshops_df.iterrows():\n",
    "        coffeeshop_id = row[\"Business ID\"]\n",
    "        associated_pois = poi_df[poi_df[\"Business ID\"] == coffeeshop_id]\n",
    "        \n",
    "        category_counts = defaultdict(int)\n",
    "        total_poi_count = 0\n",
    "        \n",
    "        for _, poi in associated_pois.iterrows():\n",
    "            if pd.notna(poi[\"Types\"]):\n",
    "                unique_categories = categorize_poi(poi[\"Types\"])\n",
    "                total_poi_count += 1\n",
    "                for category in unique_categories:\n",
    "                    category_counts[category] += 1\n",
    "        \n",
    "        for category in category_set:\n",
    "            coffeeshops_df.at[index, category] = category_counts[category]\n",
    "        coffeeshops_df.at[index, \"POI Density\"] = total_poi_count\n",
    "    \n",
    "    coffeeshops_df.to_csv(\"../../Data Preprocessing/Foursquare/final_coffeeshops_dataset_cleaned.csv\", index=False)\n",
    "    print(\"Updated dataset saved successfully.\")\n",
    "\n",
    "if __name__ == \"__main__\":\n",
    "    main()\n"
   ]
  },
  {
   "cell_type": "markdown",
   "metadata": {},
   "source": [
    "# Calculating the avg rating for resturants, in addition to Food and Drinks"
   ]
  },
  {
   "cell_type": "code",
   "execution_count": null,
   "metadata": {},
   "outputs": [
    {
     "name": "stdout",
     "output_type": "stream",
     "text": [
      "Updated dataset with average ratings saved successfully.\n"
     ]
    }
   ],
   "source": [
    "import pandas as pd\n",
    "from collections import defaultdict\n",
    "\n",
    "def categorize_poi(types):\n",
    "    \"\"\"Returns categories for a POI based on its types.\"\"\"\n",
    "    categories = {\n",
    "        \"restaurant\": [\"Restaurants\", \"Food & Dining\"],\n",
    "        \"cafe\": [\"Coffee Shops\", \"Food & Dining\"],\n",
    "        \"bar\": [\"Food & Dining\"],\n",
    "        \"bakery\": [\"Food & Dining\"],\n",
    "        \"meal_delivery\": [\"Food & Dining\"],\n",
    "        \"meal_takeaway\": [\"Food & Dining\"],\n",
    "    }\n",
    "    \n",
    "    poi_categories = set()\n",
    "    for t in types.split(\",\"):\n",
    "        t = t.strip()\n",
    "        if t in categories:\n",
    "            poi_categories.update(categories[t])\n",
    "    \n",
    "    return poi_categories\n",
    "\n",
    "def main():\n",
    "    # Load datasets\n",
    "    restaurants_df = pd.read_csv(\"../../Data Preprocessing/Foursquare/final_restaurants_dataset_cleaned.csv\")\n",
    "    poi_df = pd.read_csv(\"poi_per_restaurant.csv\")\n",
    "    \n",
    "    # Ensure unique POIs per business\n",
    "    poi_df = poi_df.drop_duplicates(subset=[\"Business ID\", \"Name\"])\n",
    "    \n",
    "    # Initialize new columns\n",
    "    restaurants_df[\"Avg Rating - Restaurants\"] = None\n",
    "    restaurants_df[\"Avg Rating - Food & Dining\"] = None\n",
    "    \n",
    "    for index, row in restaurants_df.iterrows():\n",
    "        restaurant_id = row[\"Business ID\"]\n",
    "        associated_pois = poi_df[poi_df[\"Business ID\"] == restaurant_id]\n",
    "        \n",
    "        restaurant_ratings = []\n",
    "        food_dining_ratings = []\n",
    "        \n",
    "        for _, poi in associated_pois.iterrows():\n",
    "            if pd.notna(poi[\"Types\"]) and pd.notna(poi[\"Rating\"]):\n",
    "                poi_categories = categorize_poi(poi[\"Types\"])\n",
    "                rating = poi[\"Rating\"]\n",
    "                \n",
    "                if \"Restaurants\" in poi_categories:\n",
    "                    restaurant_ratings.append(rating)\n",
    "                if \"Food & Dining\" in poi_categories:\n",
    "                    food_dining_ratings.append(rating)\n",
    "        \n",
    "        # Compute average ratings\n",
    "        if restaurant_ratings:\n",
    "            restaurants_df.at[index, \"Avg Rating - Restaurants\"] = sum(restaurant_ratings) / len(restaurant_ratings)\n",
    "        if food_dining_ratings:\n",
    "            restaurants_df.at[index, \"Avg Rating - Food & Dining\"] = sum(food_dining_ratings) / len(food_dining_ratings)\n",
    "    \n",
    "    # Save updated dataset\n",
    "    restaurants_df.to_csv(\"../../Data Preprocessing/Foursquare/final_restaurants_dataset_cleaned.csv\", index=False)\n",
    "    \n",
    "    print(\"Updated dataset with average ratings saved successfully.\")\n",
    "\n",
    "if __name__ == \"__main__\":\n",
    "    main()\n"
   ]
  },
  {
   "cell_type": "code",
   "execution_count": 44,
   "metadata": {},
   "outputs": [
    {
     "name": "stdout",
     "output_type": "stream",
     "text": [
      "Updated dataset with average ratings saved successfully.\n"
     ]
    }
   ],
   "source": [
    "import pandas as pd\n",
    "from collections import defaultdict\n",
    "\n",
    "def categorize_poi(types):\n",
    "    \"\"\"Returns categories for a POI based on its types.\"\"\"\n",
    "    categories = {\n",
    "        \"restaurant\": [\"Restaurants\", \"Food & Dining\"],\n",
    "        \"cafe\": [\"Coffee Shops\", \"Food & Dining\"],\n",
    "        \"bar\": [\"Food & Dining\"],\n",
    "        \"bakery\": [\"Food & Dining\"],\n",
    "        \"meal_delivery\": [\"Food & Dining\"],\n",
    "        \"meal_takeaway\": [\"Food & Dining\"],\n",
    "    }\n",
    "    \n",
    "    poi_categories = set()\n",
    "    for t in types.split(\",\"):\n",
    "        t = t.strip()\n",
    "        if t in categories:\n",
    "            poi_categories.update(categories[t])\n",
    "    \n",
    "    return poi_categories\n",
    "\n",
    "def main():\n",
    "    # Load datasets\n",
    "    coffeeshops_df = pd.read_csv(\"../../Data Preprocessing/Foursquare/final_coffeeshops_dataset_cleaned.csv\")\n",
    "    poi_df = pd.read_csv(\"poi_per_coffeeshop.csv\")\n",
    "    \n",
    "    # Ensure unique POIs per business\n",
    "    poi_df = poi_df.drop_duplicates(subset=[\"Business ID\", \"Name\"])\n",
    "    \n",
    "    # Initialize new columns\n",
    "    coffeeshops_df[\"Avg Rating - Coffee Shops\"] = None\n",
    "    coffeeshops_df[\"Avg Rating - Food & Dining\"] = None\n",
    "    \n",
    "    for index, row in coffeeshops_df.iterrows():\n",
    "        coffeeshop_id = row[\"Business ID\"]\n",
    "        associated_pois = poi_df[poi_df[\"Business ID\"] == coffeeshop_id]\n",
    "        \n",
    "        coffeeshop_ratings = []\n",
    "        food_dining_ratings = []\n",
    "        \n",
    "        for _, poi in associated_pois.iterrows():\n",
    "            if pd.notna(poi[\"Types\"]) and pd.notna(poi[\"Rating\"]):\n",
    "                poi_categories = categorize_poi(poi[\"Types\"])\n",
    "                rating = poi[\"Rating\"]\n",
    "                \n",
    "                if \"Coffee Shops\" in poi_categories:\n",
    "                    coffeeshop_ratings.append(rating)\n",
    "                if \"Food & Dining\" in poi_categories:\n",
    "                    food_dining_ratings.append(rating)\n",
    "        \n",
    "        # Compute average ratings\n",
    "        if coffeeshop_ratings:\n",
    "            coffeeshops_df.at[index, \"Avg Rating - Coffee Shops\"] = sum(coffeeshop_ratings) / len(coffeeshop_ratings)\n",
    "        if food_dining_ratings:\n",
    "            coffeeshops_df.at[index, \"Avg Rating - Food & Dining\"] = sum(food_dining_ratings) / len(food_dining_ratings)\n",
    "    \n",
    "    # Save updated dataset\n",
    "    coffeeshops_df.to_csv(\"../../Data Preprocessing/Foursquare/final_coffeeshops_dataset_cleaned.csv\", index=False)\n",
    "    \n",
    "    print(\"Updated dataset with average ratings saved successfully.\")\n",
    "\n",
    "if __name__ == \"__main__\":\n",
    "    main()\n"
   ]
  },
  {
   "cell_type": "markdown",
   "metadata": {},
   "source": [
    "## Calculating competition three different ways for two differen columns = 6 columns in total"
   ]
  },
  {
   "cell_type": "markdown",
   "metadata": {},
   "source": [
    "number of Restaurants over Area Coverage"
   ]
  },
  {
   "cell_type": "code",
   "execution_count": 30,
   "metadata": {},
   "outputs": [
    {
     "name": "stdout",
     "output_type": "stream",
     "text": [
      "Competition (number of Restaurants over Area Coverage) values added and saved\n"
     ]
    }
   ],
   "source": [
    "import pandas as pd\n",
    "\n",
    "def load_data(business_file):\n",
    "    return pd.read_csv(business_file)\n",
    "\n",
    "def calculate_competition(business_df):\n",
    "    area_km2 = 3.1416  \n",
    "    \n",
    "    business_df['Competition - Restaurants/Area'] = business_df['Restaurants'] / area_km2\n",
    "    return business_df\n",
    "\n",
    "def main():\n",
    "    business_file = '../../Data Preprocessing/Foursquare/final_restaurants_dataset_cleaned.csv'\n",
    "    \n",
    "    business_df = load_data(business_file)\n",
    "    updated_business_df = calculate_competition(business_df)\n",
    "    \n",
    "    updated_business_df.to_csv('../../Data Preprocessing/Foursquare/final_restaurants_dataset_cleaned.csv', index=False)\n",
    "    print(\"Competition (number of Restaurants over Area Coverage) values added and saved\")\n",
    "\n",
    "if __name__ == \"__main__\":\n",
    "    main()\n"
   ]
  },
  {
   "cell_type": "markdown",
   "metadata": {},
   "source": [
    "number of Coffee Shops over Area Coverage"
   ]
  },
  {
   "cell_type": "code",
   "execution_count": 45,
   "metadata": {},
   "outputs": [
    {
     "name": "stdout",
     "output_type": "stream",
     "text": [
      "Competition (number of Coffee Shops over Area Coverage) values added and saved\n"
     ]
    }
   ],
   "source": [
    "import pandas as pd\n",
    "\n",
    "def load_data(business_file):\n",
    "    return pd.read_csv(business_file)\n",
    "\n",
    "def calculate_competition(business_df):\n",
    "    area_km2 = 3.1416  \n",
    "    \n",
    "    business_df['Competition - Coffee Shops/Area'] = business_df['Coffee Shops'] / area_km2\n",
    "    return business_df\n",
    "\n",
    "def main():\n",
    "    business_file = '../../Data Preprocessing/Foursquare/final_coffeeshops_dataset_cleaned.csv'\n",
    "    \n",
    "    business_df = load_data(business_file)\n",
    "    updated_business_df = calculate_competition(business_df)\n",
    "    \n",
    "    updated_business_df.to_csv('../../Data Preprocessing/Foursquare/final_coffeeshops_dataset_cleaned.csv', index=False)\n",
    "    print(\"Competition (number of Coffee Shops over Area Coverage) values added and saved\")\n",
    "\n",
    "if __name__ == \"__main__\":\n",
    "    main()"
   ]
  },
  {
   "cell_type": "markdown",
   "metadata": {},
   "source": [
    "number of Food & Dining over Area Coverage"
   ]
  },
  {
   "cell_type": "code",
   "execution_count": 31,
   "metadata": {},
   "outputs": [
    {
     "name": "stdout",
     "output_type": "stream",
     "text": [
      "Competition (number of Food & Dining over Area Coverage) values added and saved\n"
     ]
    }
   ],
   "source": [
    "import pandas as pd\n",
    "\n",
    "def load_data(business_file):\n",
    "    return pd.read_csv(business_file)\n",
    "\n",
    "def calculate_competition(business_df):\n",
    "    area_km2 = 3.1416  \n",
    "    \n",
    "    business_df['Competition - Food & Dining/Area'] = business_df['Food & Dining'] / area_km2\n",
    "    return business_df\n",
    "\n",
    "def main():\n",
    "    business_file = '../../Data Preprocessing/Foursquare/final_restaurants_dataset_cleaned.csv'\n",
    "    \n",
    "    business_df = load_data(business_file)\n",
    "    updated_business_df = calculate_competition(business_df)\n",
    "    \n",
    "    updated_business_df.to_csv('../../Data Preprocessing/Foursquare/final_restaurants_dataset_cleaned.csv', index=False)\n",
    "    print(\"Competition (number of Food & Dining over Area Coverage) values added and saved\")\n",
    "\n",
    "if __name__ == \"__main__\":\n",
    "    main()\n"
   ]
  },
  {
   "cell_type": "code",
   "execution_count": 46,
   "metadata": {},
   "outputs": [
    {
     "name": "stdout",
     "output_type": "stream",
     "text": [
      "Competition (number of Food & Dining over Area Coverage) values added and saved\n"
     ]
    }
   ],
   "source": [
    "import pandas as pd\n",
    "\n",
    "def load_data(business_file):\n",
    "    return pd.read_csv(business_file)\n",
    "\n",
    "def calculate_competition(business_df):\n",
    "    area_km2 = 3.1416  \n",
    "    \n",
    "    business_df['Competition - Food & Dining/Area'] = business_df['Food & Dining'] / area_km2\n",
    "    return business_df\n",
    "\n",
    "def main():\n",
    "    business_file = '../../Data Preprocessing/Foursquare/final_coffeeshops_dataset_cleaned.csv'\n",
    "    \n",
    "    business_df = load_data(business_file)\n",
    "    updated_business_df = calculate_competition(business_df)\n",
    "    \n",
    "    updated_business_df.to_csv('../../Data Preprocessing/Foursquare/final_coffeeshops_dataset_cleaned.csv', index=False)\n",
    "    print(\"Competition (number of Food & Dining over Area Coverage) values added and saved\")\n",
    "\n",
    "if __name__ == \"__main__\":\n",
    "    main()\n"
   ]
  },
  {
   "cell_type": "markdown",
   "metadata": {},
   "source": [
    "number of Restaurants over POI Density"
   ]
  },
  {
   "cell_type": "code",
   "execution_count": null,
   "metadata": {},
   "outputs": [
    {
     "name": "stdout",
     "output_type": "stream",
     "text": [
      "Competition (number of Restaurants over POI Density) values added and saved\n"
     ]
    }
   ],
   "source": [
    "import pandas as pd\n",
    "\n",
    "def load_data(business_file):\n",
    "    return pd.read_csv(business_file)\n",
    "\n",
    "def calculate_competition(business_df):\n",
    "    business_df['Competition - Restaurants/POI Density'] = business_df['Restaurants'] / business_df['POI Density']\n",
    "    return business_df\n",
    "\n",
    "def main():\n",
    "    business_file = '../../Data Preprocessing/Foursquare/final_restaurants_dataset_cleaned.csv' \n",
    "    \n",
    "    business_df = load_data(business_file)\n",
    "    updated_business_df = calculate_competition(business_df)\n",
    "    \n",
    "    updated_business_df.to_csv('../../Data Preprocessing/Foursquare/final_restaurants_dataset_cleaned.csv', index=False)\n",
    "    print(\"Competition (number of Restaurants over POI Density) values added and saved\")\n",
    "\n",
    "if __name__ == \"__main__\":\n",
    "    main()\n"
   ]
  },
  {
   "cell_type": "markdown",
   "metadata": {},
   "source": [
    "number of Coffee Shops over POI Density"
   ]
  },
  {
   "cell_type": "code",
   "execution_count": 47,
   "metadata": {},
   "outputs": [
    {
     "name": "stdout",
     "output_type": "stream",
     "text": [
      "Competition (number of Coffee Shops over POI Density) values added and saved\n"
     ]
    }
   ],
   "source": [
    "import pandas as pd\n",
    "\n",
    "def load_data(business_file):\n",
    "    return pd.read_csv(business_file)\n",
    "\n",
    "def calculate_competition(business_df):\n",
    "    business_df['Competition - Coffee Shops/POI Density'] = business_df['Coffee Shops'] / business_df['POI Density']\n",
    "    return business_df\n",
    "\n",
    "def main():\n",
    "    business_file = '../../Data Preprocessing/Foursquare/final_coffeeshops_dataset_cleaned.csv' \n",
    "    \n",
    "    business_df = load_data(business_file)\n",
    "    updated_business_df = calculate_competition(business_df)\n",
    "    \n",
    "    updated_business_df.to_csv('../../Data Preprocessing/Foursquare/final_coffeeshops_dataset_cleaned.csv', index=False)\n",
    "    print(\"Competition (number of Coffee Shops over POI Density) values added and saved\")\n",
    "\n",
    "if __name__ == \"__main__\":\n",
    "    main()\n"
   ]
  },
  {
   "cell_type": "markdown",
   "metadata": {},
   "source": [
    "number of Food & Dining over POI Density"
   ]
  },
  {
   "cell_type": "code",
   "execution_count": null,
   "metadata": {},
   "outputs": [
    {
     "name": "stdout",
     "output_type": "stream",
     "text": [
      "Competition (number of Food & Dining over POI Density) values added and saved\n"
     ]
    }
   ],
   "source": [
    "import pandas as pd\n",
    "\n",
    "def load_data(business_file):\n",
    "    return pd.read_csv(business_file)\n",
    "\n",
    "def calculate_competition(business_df):\n",
    "    business_df['Competition - Food & Dining/POI Density'] = business_df['Food & Dining'] / business_df['POI Density']\n",
    "    return business_df\n",
    "\n",
    "def main():\n",
    "    business_file = '../../Data Preprocessing/Foursquare/final_restaurants_dataset_cleaned.csv' \n",
    "    \n",
    "    business_df = load_data(business_file)\n",
    "    updated_business_df = calculate_competition(business_df)\n",
    "    \n",
    "    updated_business_df.to_csv('../../Data Preprocessing/Foursquare/final_restaurants_dataset_cleaned.csv', index=False)\n",
    "    print(\"Competition (number of Food & Dining over POI Density) values added and saved\")\n",
    "\n",
    "if __name__ == \"__main__\":\n",
    "    main()\n"
   ]
  },
  {
   "cell_type": "code",
   "execution_count": 48,
   "metadata": {},
   "outputs": [
    {
     "name": "stdout",
     "output_type": "stream",
     "text": [
      "Competition (number of Food & Dining over POI Density) values added and saved\n"
     ]
    }
   ],
   "source": [
    "import pandas as pd\n",
    "\n",
    "def load_data(business_file):\n",
    "    return pd.read_csv(business_file)\n",
    "\n",
    "def calculate_competition(business_df):\n",
    "    business_df['Competition - Food & Dining/POI Density'] = business_df['Food & Dining'] / business_df['POI Density']\n",
    "    return business_df\n",
    "\n",
    "def main():\n",
    "    business_file = '../../Data Preprocessing/Foursquare/final_coffeeshops_dataset_cleaned.csv' \n",
    "    \n",
    "    business_df = load_data(business_file)\n",
    "    updated_business_df = calculate_competition(business_df)\n",
    "    \n",
    "    updated_business_df.to_csv('../../Data Preprocessing/Foursquare/final_coffeeshops_dataset_cleaned.csv', index=False)\n",
    "    print(\"Competition (number of Food & Dining over POI Density) values added and saved\")\n",
    "\n",
    "if __name__ == \"__main__\":\n",
    "    main()\n"
   ]
  },
  {
   "cell_type": "markdown",
   "metadata": {},
   "source": [
    "number of Restaurants over related POIs (Food, Entertainment, Hotels, Retail)"
   ]
  },
  {
   "cell_type": "code",
   "execution_count": 38,
   "metadata": {},
   "outputs": [
    {
     "name": "stdout",
     "output_type": "stream",
     "text": [
      "Competition (number of Restaurants over related POIs [4 columns]) values added and saved\n"
     ]
    }
   ],
   "source": [
    "import pandas as pd\n",
    "\n",
    "def load_data(business_file):\n",
    "    return pd.read_csv(business_file)\n",
    "\n",
    "def calculate_competition(business_df):\n",
    "    columns_to_sum = ['Food & Dining', 'Entertainment & Recreation', 'Retail & Shopping', 'Hotels & Hospitality'] \n",
    "    business_df['Competition - Restaurants/related POIs'] = business_df['Restaurants'] / business_df[columns_to_sum].sum(axis=1)\n",
    "    return business_df\n",
    "\n",
    "def main():\n",
    "    business_file = '../../Data Preprocessing/Foursquare/final_restaurants_dataset_cleaned.csv'  \n",
    "    \n",
    "    business_df = load_data(business_file)\n",
    "    updated_business_df = calculate_competition(business_df)\n",
    "    \n",
    "    updated_business_df.to_csv('../../Data Preprocessing/Foursquare/final_restaurants_dataset_cleaned.csv', index=False)\n",
    "    print(\"Competition (number of Restaurants over related POIs [4 columns]) values added and saved\")\n",
    "\n",
    "if __name__ == \"__main__\":\n",
    "    main()\n"
   ]
  },
  {
   "cell_type": "markdown",
   "metadata": {},
   "source": [
    "number of Coffee Shops over related POIs (Food, Entertainment, Hotels, Retail)"
   ]
  },
  {
   "cell_type": "code",
   "execution_count": 49,
   "metadata": {},
   "outputs": [
    {
     "name": "stdout",
     "output_type": "stream",
     "text": [
      "Competition (number of Coffee Shops over related POIs [4 columns]) values added and saved\n"
     ]
    }
   ],
   "source": [
    "import pandas as pd\n",
    "\n",
    "def load_data(business_file):\n",
    "    return pd.read_csv(business_file)\n",
    "\n",
    "def calculate_competition(business_df):\n",
    "    columns_to_sum = ['Food & Dining', 'Entertainment & Recreation', 'Retail & Shopping', 'Hotels & Hospitality'] \n",
    "    business_df['Competition - Coffee Shops/related POIs'] = business_df['Coffee Shops'] / business_df[columns_to_sum].sum(axis=1)\n",
    "    return business_df\n",
    "\n",
    "def main():\n",
    "    business_file = '../../Data Preprocessing/Foursquare/final_coffeeshops_dataset_cleaned.csv'  \n",
    "    \n",
    "    business_df = load_data(business_file)\n",
    "    updated_business_df = calculate_competition(business_df)\n",
    "    \n",
    "    updated_business_df.to_csv('../../Data Preprocessing/Foursquare/final_coffeeshops_dataset_cleaned.csv', index=False)\n",
    "    print(\"Competition (number of Coffee Shops over related POIs [4 columns]) values added and saved\")\n",
    "\n",
    "if __name__ == \"__main__\":\n",
    "    main()\n"
   ]
  },
  {
   "cell_type": "markdown",
   "metadata": {},
   "source": [
    "number of Food & Dining over related POIs (Food, Entertainment, Hotels, Retail)"
   ]
  },
  {
   "cell_type": "code",
   "execution_count": 39,
   "metadata": {},
   "outputs": [
    {
     "name": "stdout",
     "output_type": "stream",
     "text": [
      "Competition (number of Food & Dining over related POIs [4 columns]) values added and saved\n"
     ]
    }
   ],
   "source": [
    "import pandas as pd\n",
    "\n",
    "def load_data(business_file):\n",
    "    return pd.read_csv(business_file)\n",
    "\n",
    "def calculate_competition(business_df):\n",
    "    columns_to_sum = ['Food & Dining', 'Entertainment & Recreation', 'Retail & Shopping', 'Hotels & Hospitality'] \n",
    "    business_df['Competition - Food & Dining/related POIs'] = business_df['Food & Dining'] / business_df[columns_to_sum].sum(axis=1)\n",
    "    return business_df\n",
    "\n",
    "def main():\n",
    "    business_file = '../../Data Preprocessing/Foursquare/final_restaurants_dataset_cleaned.csv'\n",
    "    \n",
    "    business_df = load_data(business_file)\n",
    "    updated_business_df = calculate_competition(business_df)\n",
    "    \n",
    "    updated_business_df.to_csv('../../Data Preprocessing/Foursquare/final_restaurants_dataset_cleaned.csv', index=False)\n",
    "    print(\"Competition (number of Food & Dining over related POIs [4 columns]) values added and saved\")\n",
    "\n",
    "if __name__ == \"__main__\":\n",
    "    main()\n"
   ]
  },
  {
   "cell_type": "code",
   "execution_count": 50,
   "metadata": {},
   "outputs": [
    {
     "name": "stdout",
     "output_type": "stream",
     "text": [
      "Competition (number of Food & Dining over related POIs [4 columns]) values added and saved\n"
     ]
    }
   ],
   "source": [
    "import pandas as pd\n",
    "\n",
    "def load_data(business_file):\n",
    "    return pd.read_csv(business_file)\n",
    "\n",
    "def calculate_competition(business_df):\n",
    "    columns_to_sum = ['Food & Dining', 'Entertainment & Recreation', 'Retail & Shopping', 'Hotels & Hospitality'] \n",
    "    business_df['Competition - Food & Dining/related POIs'] = business_df['Food & Dining'] / business_df[columns_to_sum].sum(axis=1)\n",
    "    return business_df\n",
    "\n",
    "def main():\n",
    "    business_file = '../../Data Preprocessing/Foursquare/final_coffeeshops_dataset_cleaned.csv'\n",
    "    \n",
    "    business_df = load_data(business_file)\n",
    "    updated_business_df = calculate_competition(business_df)\n",
    "    \n",
    "    updated_business_df.to_csv('../../Data Preprocessing/Foursquare/final_coffeeshops_dataset_cleaned.csv', index=False)\n",
    "    print(\"Competition (number of Food & Dining over related POIs [4 columns]) values added and saved\")\n",
    "\n",
    "if __name__ == \"__main__\":\n",
    "    main()\n"
   ]
  }
 ],
 "metadata": {
  "kernelspec": {
   "display_name": "base",
   "language": "python",
   "name": "python3"
  },
  "language_info": {
   "codemirror_mode": {
    "name": "ipython",
    "version": 3
   },
   "file_extension": ".py",
   "mimetype": "text/x-python",
   "name": "python",
   "nbconvert_exporter": "python",
   "pygments_lexer": "ipython3",
   "version": "3.12.4"
  }
 },
 "nbformat": 4,
 "nbformat_minor": 2
}

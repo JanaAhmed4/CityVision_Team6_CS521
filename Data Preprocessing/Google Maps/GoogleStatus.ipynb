{
 "cells": [
  {
   "cell_type": "markdown",
   "metadata": {},
   "source": [
    "### Retrieving Google businesses' status\n",
    "       OPERATIONAL/CLOSED_PERMANENTLY/CLOSED_TEMPORARILY"
   ]
  },
  {
   "cell_type": "code",
   "execution_count": 4,
   "metadata": {},
   "outputs": [
    {
     "name": "stdout",
     "output_type": "stream",
     "text": [
      "✅ Updated business data saved to: fullcoffeeshpos_with_google_status_NAME.csv\n"
     ]
    }
   ],
   "source": [
    "import pandas as pd\n",
    "import googlemaps\n",
    "import time\n",
    "\n",
    "\n",
    "API_KEY = \"XXX\"\n",
    "gmaps = googlemaps.Client(key=API_KEY)\n",
    "\n",
    "# Load business data\n",
    "file_path = \"../../Cleaned Data/fullcoffeeshops.csv\"\n",
    "business_data = pd.read_csv(file_path)\n",
    "\n",
    "# ✅ Function to search for a business\n",
    "def get_business_info(name, lat, lon):\n",
    "    try:\n",
    "        # Search for places using name and a small radius\n",
    "        results = gmaps.places_nearby(\n",
    "            location=(lat, lon), \n",
    "            radius=100,  # Search within 500 meters\n",
    "            name=name\n",
    "        )\n",
    "\n",
    "        if results and \"results\" in results and results[\"results\"]:\n",
    "            place = results[\"results\"][0]  # Get the first matching result\n",
    "            \n",
    "            # Extract business details\n",
    "            place_id = place[\"place_id\"]\n",
    "            business_status = place.get(\"business_status\", \"UNKNOWN\")  # Check if Open, Closed, etc.\n",
    "            \n",
    "            return place_id, business_status\n",
    "        else:\n",
    "            return None, \"NOT FOUND\"\n",
    "\n",
    "    except Exception as e:\n",
    "        print(f\"Error fetching info for {name}: {e}\")\n",
    "        return None, \"ERROR\"\n",
    "\n",
    "# ✅ Apply the function to all businesses\n",
    "business_data[\"Google Place ID\"] = None\n",
    "business_data[\"Business Status\"] = None\n",
    "\n",
    "for index, row in business_data.iterrows():\n",
    "    place_id, status = get_business_info(row[\"Name\"], row[\"Latitude\"], row[\"Longitude\"])\n",
    "    business_data.at[index, \"Google Place ID\"] = place_id\n",
    "    business_data.at[index, \"Business Status\"] = status\n",
    "\n",
    "    # Avoid hitting API rate limits\n",
    "    time.sleep(1)  # Wait 1 second per request\n",
    "\n",
    "# ✅ Save the updated data\n",
    "output_file = \"fullcoffeeshpos_with_google_status_NAME.csv\"\n",
    "business_data.to_csv(output_file, index=False)\n",
    "\n",
    "print(f\"✅ Updated business data saved to: {output_file}\")\n"
   ]
  },
  {
   "cell_type": "code",
   "execution_count": 6,
   "metadata": {},
   "outputs": [
    {
     "name": "stdout",
     "output_type": "stream",
     "text": [
      "Number of records in category 'OPERATIONAL': 947\n",
      "Number of records in category 'CLOSED_PERMANENTLY': 321\n",
      "Number of records in category 'CLOSED_TEMPORARILY': 64\n",
      "Number of records in category 'NOT FOUND': 1076\n"
     ]
    }
   ],
   "source": [
    "import pandas as pd\n",
    "\n",
    "def count_records_by_categories(csv_file, column_name, category_values):\n",
    "    \"\"\"\n",
    "    Reads a CSV file and counts the number of records where column_name matches any value in category_values.\n",
    "    \n",
    "    :param csv_file: Path to the CSV file\n",
    "    :param column_name: The column to filter by\n",
    "    :param category_values: A list of categories to count\n",
    "    :return: Dictionary with category counts\n",
    "    \"\"\"\n",
    "    try:\n",
    "        df = pd.read_csv(csv_file)\n",
    "        counts = {category: (df[column_name] == category).sum() for category in category_values}\n",
    "        return counts\n",
    "    except Exception as e:\n",
    "        print(f\"Error: {e}\")\n",
    "        return None\n",
    "\n",
    "# Example usage\n",
    "if __name__ == \"__main__\":\n",
    "    csv_path = \"fullcoffeeshpos_with_google_status_NAME.csv\"  # Update with actual file path\n",
    "    column = \"Business Status\"  # Update with actual column name\n",
    "    categories = [\"OPERATIONAL\", \"CLOSED_PERMANENTLY\", \"CLOSED_TEMPORARILY\", \"NOT FOUND\"]  # Update with actual category values\n",
    "    \n",
    "    result = count_records_by_categories(csv_path, column, categories)\n",
    "    if result is not None:\n",
    "        for category, count in result.items():\n",
    "            print(f\"Number of records in category '{category}': {count}\")\n"
   ]
  },
  {
   "cell_type": "code",
   "execution_count": 1,
   "metadata": {},
   "outputs": [
    {
     "name": "stdout",
     "output_type": "stream",
     "text": [
      "Error fetching info for Eastern Broasted (بروستد الشرقية): ('Connection aborted.', RemoteDisconnected('Remote end closed connection without response'))\n",
      "✅ Updated business data saved to: fullrestaurants_with_google_status.csv\n"
     ]
    }
   ],
   "source": [
    "import pandas as pd\n",
    "import googlemaps\n",
    "import time\n",
    "\n",
    "\n",
    "API_KEY = \"XXX\"\n",
    "gmaps = googlemaps.Client(key=API_KEY)\n",
    "\n",
    "# Load business data\n",
    "file_path = \"../../Cleaned Data/fullrestaurants.csv\"\n",
    "business_data = pd.read_csv(file_path)\n",
    "\n",
    "# Function to search for a business\n",
    "def get_business_info(name, lat, lon):\n",
    "    try:\n",
    "        # Search for places using name and a small radius\n",
    "        results = gmaps.places_nearby(\n",
    "            location=(lat, lon), \n",
    "            radius=100,  # Search within 500 meters\n",
    "            keyword=name\n",
    "        )\n",
    "\n",
    "        if results and \"results\" in results and results[\"results\"]:\n",
    "            place = results[\"results\"][0]  # Get the first matching result\n",
    "            \n",
    "            # Extract business details\n",
    "            place_id = place[\"place_id\"]\n",
    "            business_status = place.get(\"business_status\", \"UNKNOWN\")  # Check if Open, Closed, etc.\n",
    "            \n",
    "            return place_id, business_status\n",
    "        else:\n",
    "            return None, \"NOT FOUND\"\n",
    "\n",
    "    except Exception as e:\n",
    "        print(f\"Error fetching info for {name}: {e}\")\n",
    "        return None, \"ERROR\"\n",
    "\n",
    "# Apply the function to all businesses\n",
    "business_data[\"Google Place ID\"] = None\n",
    "business_data[\"Business Status\"] = None\n",
    "\n",
    "for index, row in business_data.iterrows():\n",
    "    place_id, status = get_business_info(row[\"Name\"], row[\"Latitude\"], row[\"Longitude\"])\n",
    "    business_data.at[index, \"Google Place ID\"] = place_id\n",
    "    business_data.at[index, \"Business Status\"] = status\n",
    "\n",
    "    # Avoid hitting API rate limits\n",
    "    time.sleep(1)  # Wait 1 second per request\n",
    "\n",
    "# Save the updated data\n",
    "output_file = \"fullrestaurants_with_google_status.csv\"\n",
    "business_data.to_csv(output_file, index=False)\n",
    "\n",
    "print(f\"Updated business data saved to: {output_file}\")\n"
   ]
  },
  {
   "cell_type": "code",
   "execution_count": 3,
   "metadata": {},
   "outputs": [
    {
     "name": "stdout",
     "output_type": "stream",
     "text": [
      "Number of records in category 'OPERATIONAL': 1526\n",
      "Number of records in category 'CLOSED_PERMANENTLY': 399\n",
      "Number of records in category 'CLOSED_TEMPORARILY': 60\n",
      "Number of records in category 'NOT FOUND': 1194\n"
     ]
    }
   ],
   "source": [
    "import pandas as pd\n",
    "\n",
    "def count_records_by_categories(csv_file, column_name, category_values):\n",
    "    \"\"\"\n",
    "    Reads a CSV file and counts the number of records where column_name matches any value in category_values.\n",
    "    \n",
    "    :param csv_file: Path to the CSV file\n",
    "    :param column_name: The column to filter by\n",
    "    :param category_values: A list of categories to count\n",
    "    :return: Dictionary with category counts\n",
    "    \"\"\"\n",
    "    try:\n",
    "        df = pd.read_csv(csv_file)\n",
    "        counts = {category: (df[column_name] == category).sum() for category in category_values}\n",
    "        return counts\n",
    "    except Exception as e:\n",
    "        print(f\"Error: {e}\")\n",
    "        return None\n",
    "\n",
    "# Example usage\n",
    "if __name__ == \"__main__\":\n",
    "    csv_path = \"fullrestaurants_with_google_status.csv\"  # Update with actual file path\n",
    "    column = \"Business Status\"  # Update with actual column name\n",
    "    categories = [\"OPERATIONAL\", \"CLOSED_PERMANENTLY\", \"CLOSED_TEMPORARILY\", \"NOT FOUND\"]  # Update with actual category values\n",
    "    \n",
    "    result = count_records_by_categories(csv_path, column, categories)\n",
    "    if result is not None:\n",
    "        for category, count in result.items():\n",
    "            print(f\"Number of records in category '{category}': {count}\")\n"
   ]
  },
  {
   "cell_type": "code",
   "execution_count": 9,
   "metadata": {},
   "outputs": [
    {
     "name": "stdout",
     "output_type": "stream",
     "text": [
      "Requirement already satisfied: geopy in c:\\users\\jory\\anaconda3\\lib\\site-packages (2.4.1)\n",
      "Requirement already satisfied: geographiclib<3,>=1.52 in c:\\users\\jory\\anaconda3\\lib\\site-packages (from geopy) (2.0)\n",
      "Note: you may need to restart the kernel to use updated packages.\n"
     ]
    }
   ],
   "source": [
    "%pip install geopy"
   ]
  },
  {
   "cell_type": "code",
   "execution_count": 19,
   "metadata": {},
   "outputs": [
    {
     "name": "stdout",
     "output_type": "stream",
     "text": [
      "✅ Updated business data saved to: fullcoffeeshpos_with_google_status_UPDATED.csv\n"
     ]
    }
   ],
   "source": [
    "import pandas as pd\n",
    "import googlemaps\n",
    "import time\n",
    "from geopy.distance import geodesic\n",
    "\n",
    "API_KEY = \"XXX\"\n",
    "gmaps = googlemaps.Client(key=API_KEY)\n",
    "\n",
    "# Load business data\n",
    "file_path = \"../../Cleaned Data/fullcoffeeshops.csv\"\n",
    "business_data = pd.read_csv(file_path)\n",
    "\n",
    "# ✅ Function to search for a business and find the closest match\n",
    "def get_business_info(name, lat, lon):\n",
    "    try:\n",
    "        # Search for places by name (without lat/lon constraint)\n",
    "        results = gmaps.places(query=name)\n",
    "\n",
    "        if results and \"results\" in results and results[\"results\"]:\n",
    "            # List of candidates with distances\n",
    "            candidates = []\n",
    "\n",
    "            for place in results[\"results\"]:\n",
    "                place_lat = place[\"geometry\"][\"location\"][\"lat\"]\n",
    "                place_lon = place[\"geometry\"][\"location\"][\"lng\"]\n",
    "                distance = geodesic((lat, lon), (place_lat, place_lon)).meters\n",
    "\n",
    "                candidates.append((place, distance))\n",
    "\n",
    "            # Sort by distance and get the closest one\n",
    "            candidates.sort(key=lambda x: x[1])\n",
    "\n",
    "            if candidates:\n",
    "                closest_place, min_distance = candidates[0]\n",
    "\n",
    "                # ❌ If the closest match is more than 200m away, return NOT FOUND\n",
    "                if min_distance > 200:\n",
    "                    return None, \"NOT FOUND\", min_distance\n",
    "\n",
    "                place_id = closest_place[\"place_id\"]\n",
    "                business_status = closest_place.get(\"business_status\", \"UNKNOWN\")\n",
    "\n",
    "                return place_id, business_status, min_distance\n",
    "\n",
    "        return None, \"NOT FOUND\", None\n",
    "\n",
    "    except Exception as e:\n",
    "        print(f\"Error fetching info for {name}: {e}\")\n",
    "        return None, \"ERROR\", None\n",
    "\n",
    "# ✅ Apply the function to all businesses\n",
    "business_data[\"Google Place ID\"] = None\n",
    "business_data[\"Business Status\"] = None\n",
    "business_data[\"Distance (m)\"] = None\n",
    "\n",
    "for index, row in business_data.iterrows():\n",
    "    place_id, status, distance = get_business_info(row[\"Name\"], row[\"Latitude\"], row[\"Longitude\"])\n",
    "    business_data.at[index, \"Google Place ID\"] = place_id\n",
    "    business_data.at[index, \"Business Status\"] = status\n",
    "    business_data.at[index, \"Distance (m)\"] = distance\n",
    "\n",
    "    # Avoid hitting API rate limits\n",
    "    time.sleep(1)  # Wait 1 second per request\n",
    "\n",
    "# ✅ Save the updated data\n",
    "output_file = \"fullcoffeeshpos_with_google_status_UPDATED.csv\"\n",
    "business_data.to_csv(output_file, index=False)\n",
    "\n",
    "print(f\"✅ Updated business data saved to: {output_file}\")\n"
   ]
  },
  {
   "cell_type": "code",
   "execution_count": 20,
   "metadata": {},
   "outputs": [
    {
     "name": "stdout",
     "output_type": "stream",
     "text": [
      "Number of records in category 'OPERATIONAL': 762\n",
      "Number of records in category 'CLOSED_PERMANENTLY': 252\n",
      "Number of records in category 'CLOSED_TEMPORARILY': 55\n",
      "Number of records in category 'NOT FOUND': 1340\n"
     ]
    }
   ],
   "source": [
    "import pandas as pd\n",
    "\n",
    "def count_records_by_categories(csv_file, column_name, category_values):\n",
    "    \"\"\"\n",
    "    Reads a CSV file and counts the number of records where column_name matches any value in category_values.\n",
    "    \n",
    "    :param csv_file: Path to the CSV file\n",
    "    :param column_name: The column to filter by\n",
    "    :param category_values: A list of categories to count\n",
    "    :return: Dictionary with category counts\n",
    "    \"\"\"\n",
    "    try:\n",
    "        df = pd.read_csv(csv_file)\n",
    "        counts = {category: (df[column_name] == category).sum() for category in category_values}\n",
    "        return counts\n",
    "    except Exception as e:\n",
    "        print(f\"Error: {e}\")\n",
    "        return None\n",
    "\n",
    "# Example usage\n",
    "if __name__ == \"__main__\":\n",
    "    csv_path = \"fullcoffeeshpos_with_google_status_UPDATED.csv\"  # Update with actual file path\n",
    "    column = \"Business Status\"  # Update with actual column name\n",
    "    categories = [\"OPERATIONAL\", \"CLOSED_PERMANENTLY\", \"CLOSED_TEMPORARILY\", \"NOT FOUND\"]  # Update with actual category values\n",
    "    \n",
    "    result = count_records_by_categories(csv_path, column, categories)\n",
    "    if result is not None:\n",
    "        for category, count in result.items():\n",
    "            print(f\"Number of records in category '{category}': {count}\")\n"
   ]
  },
  {
   "cell_type": "code",
   "execution_count": 21,
   "metadata": {},
   "outputs": [
    {
     "name": "stdout",
     "output_type": "stream",
     "text": [
      "✅ Updated business data saved to: fullrestaurants_with_google_status_UPDATED.csv\n"
     ]
    }
   ],
   "source": [
    "import pandas as pd\n",
    "import googlemaps\n",
    "import time\n",
    "from geopy.distance import geodesic\n",
    "\n",
    "API_KEY = \"XXX\"\n",
    "gmaps = googlemaps.Client(key=API_KEY)\n",
    "\n",
    "# Load business data\n",
    "file_path = \"../../Cleaned Data/fullrestaurants.csv\"\n",
    "business_data = pd.read_csv(file_path)\n",
    "\n",
    "# ✅ Function to search for a business and find the closest match\n",
    "def get_business_info(name, lat, lon):\n",
    "    try:\n",
    "        # Search for places by name (without lat/lon constraint)\n",
    "        results = gmaps.places(query=name)\n",
    "\n",
    "        if results and \"results\" in results and results[\"results\"]:\n",
    "            # List of candidates with distances\n",
    "            candidates = []\n",
    "\n",
    "            for place in results[\"results\"]:\n",
    "                place_lat = place[\"geometry\"][\"location\"][\"lat\"]\n",
    "                place_lon = place[\"geometry\"][\"location\"][\"lng\"]\n",
    "                distance = geodesic((lat, lon), (place_lat, place_lon)).meters\n",
    "\n",
    "                candidates.append((place, distance))\n",
    "\n",
    "            # Sort by distance and get the closest one\n",
    "            candidates.sort(key=lambda x: x[1])\n",
    "\n",
    "            if candidates:\n",
    "                closest_place, min_distance = candidates[0]\n",
    "\n",
    "                # ❌ If the closest match is more than 200m away, return NOT FOUND\n",
    "                if min_distance > 200:\n",
    "                    return None, \"NOT FOUND\", min_distance\n",
    "\n",
    "                place_id = closest_place[\"place_id\"]\n",
    "                business_status = closest_place.get(\"business_status\", \"UNKNOWN\")\n",
    "\n",
    "                return place_id, business_status, min_distance\n",
    "\n",
    "        return None, \"NOT FOUND\", None\n",
    "\n",
    "    except Exception as e:\n",
    "        print(f\"Error fetching info for {name}: {e}\")\n",
    "        return None, \"ERROR\", None\n",
    "\n",
    "# ✅ Apply the function to all businesses\n",
    "business_data[\"Google Place ID\"] = None\n",
    "business_data[\"Business Status\"] = None\n",
    "business_data[\"Distance (m)\"] = None\n",
    "\n",
    "for index, row in business_data.iterrows():\n",
    "    place_id, status, distance = get_business_info(row[\"Name\"], row[\"Latitude\"], row[\"Longitude\"])\n",
    "    business_data.at[index, \"Google Place ID\"] = place_id\n",
    "    business_data.at[index, \"Business Status\"] = status\n",
    "    business_data.at[index, \"Distance (m)\"] = distance\n",
    "\n",
    "    # Avoid hitting API rate limits\n",
    "    time.sleep(1)  # Wait 1 second per request\n",
    "\n",
    "# ✅ Save the updated data\n",
    "output_file = \"fullrestaurants_with_google_status_UPDATED.csv\"\n",
    "business_data.to_csv(output_file, index=False)\n",
    "\n",
    "print(f\"✅ Updated business data saved to: {output_file}\")\n"
   ]
  },
  {
   "cell_type": "code",
   "execution_count": null,
   "metadata": {},
   "outputs": [
    {
     "name": "stdout",
     "output_type": "stream",
     "text": [
      "✅ No duplicated values found in column 'Google Place ID'.\n"
     ]
    },
    {
     "ename": "",
     "evalue": "",
     "output_type": "error",
     "traceback": [
      "\u001b[1;31mThe Kernel crashed while executing code in the current cell or a previous cell. \n",
      "\u001b[1;31mPlease review the code in the cell(s) to identify a possible cause of the failure. \n",
      "\u001b[1;31mClick <a href='https://aka.ms/vscodeJupyterKernelCrash'>here</a> for more info. \n",
      "\u001b[1;31mView Jupyter <a href='command:jupyter.viewOutput'>log</a> for further details."
     ]
    }
   ],
   "source": [
    "import pandas as pd\n",
    "\n",
    "# Load CSV file\n",
    "file_path = '../../Data Preprocessing/Foursquare/final_restaurants_dataset_cleaned.csv'  \n",
    "df = pd.read_csv(file_path)\n",
    "\n",
    "# Specify the column to check for duplicates\n",
    "column_name = \"Google Place ID\"  # Replace with your actual column name\n",
    "\n",
    "# Find duplicated values\n",
    "duplicates = df[df.duplicated(subset=[column_name], keep=False)]\n",
    "\n",
    "# Display results\n",
    "if not duplicates.empty:\n",
    "    print(f\"⚠️ Found {duplicates.shape[0]} duplicated values in column '{column_name}':\")\n",
    "    print(duplicates)\n",
    "else:\n",
    "    print(f\"✅ No duplicated values found in column '{column_name}'.\")\n",
    "\n",
    "# Optionally, save the duplicate rows to a separate CSV file\n",
    "duplicates.to_csv(\"duplicated_values.csv\", index=False)\n"
   ]
  }
 ],
 "metadata": {
  "kernelspec": {
   "display_name": "base",
   "language": "python",
   "name": "python3"
  },
  "language_info": {
   "codemirror_mode": {
    "name": "ipython",
    "version": 3
   },
   "file_extension": ".py",
   "mimetype": "text/x-python",
   "name": "python",
   "nbconvert_exporter": "python",
   "pygments_lexer": "ipython3",
   "version": "3.12.4"
  }
 },
 "nbformat": 4,
 "nbformat_minor": 2
}

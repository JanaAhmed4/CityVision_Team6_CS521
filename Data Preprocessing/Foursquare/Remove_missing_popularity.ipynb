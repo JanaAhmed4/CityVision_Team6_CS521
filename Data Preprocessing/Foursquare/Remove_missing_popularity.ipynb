{
 "cells": [
  {
   "cell_type": "code",
   "execution_count": 2,
   "metadata": {},
   "outputs": [
    {
     "name": "stdout",
     "output_type": "stream",
     "text": [
      "Records with 'No popularity data' removed. Cleaned data saved in the original file.\n"
     ]
    }
   ],
   "source": [
    "import pandas as pd\n",
    "\n",
    "# Load the CSV file\n",
    "file_path = \"../../Cleaned Data/fullcoffeeshops.csv\"  \n",
    "business_data = pd.read_csv(file_path)\n",
    "\n",
    "# Remove records where Popularity is 'No popularity data'\n",
    "filtered_data = business_data[business_data['Popularity'] != 'No popularity data']\n",
    "\n",
    "# Save the cleaned data to a new CSV file\n",
    "filtered_data.to_csv(file_path, index=False)\n",
    "\n",
    "print(\"Records with 'No popularity data' removed. Cleaned data saved in the original file.\")"
   ]
  }
 ],
 "metadata": {
  "kernelspec": {
   "display_name": "Python 3",
   "language": "python",
   "name": "python3"
  },
  "language_info": {
   "codemirror_mode": {
    "name": "ipython",
    "version": 3
   },
   "file_extension": ".py",
   "mimetype": "text/x-python",
   "name": "python",
   "nbconvert_exporter": "python",
   "pygments_lexer": "ipython3",
   "version": "3.11.9"
  }
 },
 "nbformat": 4,
 "nbformat_minor": 2
}
